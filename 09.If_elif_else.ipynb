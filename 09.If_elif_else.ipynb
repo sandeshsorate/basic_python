{
 "cells": [
  {
   "cell_type": "markdown",
   "id": "ef9c9bfc-7f6a-4ba2-90bf-7df565b97d26",
   "metadata": {},
   "source": [
    "# If, Elif, Else"
   ]
  },
  {
   "cell_type": "code",
   "execution_count": 2,
   "id": "3b6ba4da-2e59-4eb4-8643-038dfb8cad08",
   "metadata": {},
   "outputs": [],
   "source": [
    "# The if-elif-else statement is a conditional control structure in Python,\n",
    "# that allows multiple conditions to be checked in sequence. \n",
    "# It executes different blocks of code based on which condition is True.\n",
    "# Uses else as a fallback when none of the conditions are met."
   ]
  },
  {
   "cell_type": "code",
   "execution_count": 3,
   "id": "ca2ac429-b913-433d-94e8-ba9cfc399714",
   "metadata": {},
   "outputs": [],
   "source": [
    "a = 20\n",
    "b = 10"
   ]
  },
  {
   "cell_type": "code",
   "execution_count": 4,
   "id": "683b68d7-3713-4c5c-87f8-9c0466a9fb4e",
   "metadata": {},
   "outputs": [
    {
     "name": "stdout",
     "output_type": "stream",
     "text": [
      "a is greater than b\n"
     ]
    }
   ],
   "source": [
    "if a > b:\n",
    "    print(\"a is greater than b\")\n",
    "\n",
    "else:\n",
    "    print(\"b is greater than a\")"
   ]
  },
  {
   "cell_type": "code",
   "execution_count": 6,
   "id": "9188715f-6b24-4790-84b8-afc71c619112",
   "metadata": {},
   "outputs": [
    {
     "name": "stdout",
     "output_type": "stream",
     "text": [
      "a is greater than b\n"
     ]
    }
   ],
   "source": [
    "if a < b:\n",
    "    print(\"b is greater than a\")\n",
    "\n",
    "else:\n",
    "    print(\"a is greater than b\")"
   ]
  },
  {
   "cell_type": "code",
   "execution_count": 7,
   "id": "b592a821-905f-4e79-87e2-c5ba40237ebf",
   "metadata": {},
   "outputs": [],
   "source": [
    "age = 18"
   ]
  },
  {
   "cell_type": "code",
   "execution_count": 8,
   "id": "f34445aa-67be-44c1-9d0c-f1fffe60c1c7",
   "metadata": {},
   "outputs": [
    {
     "name": "stdout",
     "output_type": "stream",
     "text": [
      "You Are Elligble For Vote\n"
     ]
    }
   ],
   "source": [
    "if age >= 18:\n",
    "    print(\"You Are Elligble For Vote\")\n",
    "\n",
    "else :\n",
    "    print(\"You Are Not Elligble For Vote\")"
   ]
  },
  {
   "cell_type": "code",
   "execution_count": 9,
   "id": "54790007-bba9-446c-97cd-950732766bed",
   "metadata": {},
   "outputs": [],
   "source": [
    "marks = 34"
   ]
  },
  {
   "cell_type": "code",
   "execution_count": 12,
   "id": "c52680b0-3449-44c1-89ad-4e79965ede0f",
   "metadata": {},
   "outputs": [
    {
     "name": "stdout",
     "output_type": "stream",
     "text": [
      "failed\n"
     ]
    }
   ],
   "source": [
    "if marks >= 90:\n",
    "    print(\"Grade A\")\n",
    "    \n",
    "elif marks >= 75:\n",
    "    print(\"Grade B\")\n",
    "\n",
    "elif marks >= 50:\n",
    "    print(\"Grade C\")\n",
    "\n",
    "elif marks >= 35:\n",
    "    print(\"Pass\")\n",
    "\n",
    "else:\n",
    "    print(\"failed\")"
   ]
  },
  {
   "cell_type": "code",
   "execution_count": 13,
   "id": "f8ee7c6e-8152-4389-a7dc-70ba68543b2b",
   "metadata": {},
   "outputs": [],
   "source": [
    "# IMP Notes\n",
    "# The program starts by evaluating if condition1.\n",
    "# If condition1 is True, its corresponding block executes, and the rest of the conditions are skipped.\n",
    "# If condition1 is False, the program checks elif condition2, then elif condition3, and so on.\n",
    "# If none of the conditions are True, the else block executes."
   ]
  },
  {
   "cell_type": "code",
   "execution_count": null,
   "id": "f6031ac4-0284-42ff-a179-ecf1f7ee8f43",
   "metadata": {},
   "outputs": [],
   "source": []
  }
 ],
 "metadata": {
  "kernelspec": {
   "display_name": "Python 3 (ipykernel)",
   "language": "python",
   "name": "python3"
  },
  "language_info": {
   "codemirror_mode": {
    "name": "ipython",
    "version": 3
   },
   "file_extension": ".py",
   "mimetype": "text/x-python",
   "name": "python",
   "nbconvert_exporter": "python",
   "pygments_lexer": "ipython3",
   "version": "3.12.7"
  }
 },
 "nbformat": 4,
 "nbformat_minor": 5
}
