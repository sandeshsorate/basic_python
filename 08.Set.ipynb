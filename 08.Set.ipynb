{
 "cells": [
  {
   "cell_type": "markdown",
   "id": "feab28be-bae8-47bc-a4a4-062266b0afff",
   "metadata": {},
   "source": [
    "# Set"
   ]
  },
  {
   "cell_type": "code",
   "execution_count": 3,
   "id": "14f46d23-7aed-49a6-a33d-d78e4394702a",
   "metadata": {},
   "outputs": [],
   "source": [
    "# a set is creating using {} Curly Brackets.\n",
    "# a Set is an unordered collection of unique elements.\n",
    "# It is mutable, meaning elements can be added or removed, \n",
    "# but it does not allow duplicate values."
   ]
  },
  {
   "cell_type": "code",
   "execution_count": 4,
   "id": "ea5e83ec-42c5-4f71-95ff-6ae158346fec",
   "metadata": {},
   "outputs": [],
   "source": [
    "set1 = {1,2,3,4,5}    # Creating a set with int values."
   ]
  },
  {
   "cell_type": "code",
   "execution_count": 5,
   "id": "39f9c4c0-40ae-4b00-a20f-fc495ab5ea94",
   "metadata": {},
   "outputs": [
    {
     "data": {
      "text/plain": [
       "{1, 2, 3, 4, 5}"
      ]
     },
     "execution_count": 5,
     "metadata": {},
     "output_type": "execute_result"
    }
   ],
   "source": [
    "set1"
   ]
  },
  {
   "cell_type": "code",
   "execution_count": 6,
   "id": "4a01dc00-4ffb-45da-b52b-f951e00f823f",
   "metadata": {},
   "outputs": [
    {
     "data": {
      "text/plain": [
       "set"
      ]
     },
     "execution_count": 6,
     "metadata": {},
     "output_type": "execute_result"
    }
   ],
   "source": [
    "type(set1)"
   ]
  },
  {
   "cell_type": "code",
   "execution_count": 7,
   "id": "87525451-19da-4c51-b6f8-901d90b3b778",
   "metadata": {},
   "outputs": [],
   "source": [
    "set2 = {'apple', 'banana', 'cherry'}    # Creating a set with string values"
   ]
  },
  {
   "cell_type": "code",
   "execution_count": 8,
   "id": "f0a73108-696f-4e78-a3f2-b5c7ee6d38eb",
   "metadata": {},
   "outputs": [
    {
     "data": {
      "text/plain": [
       "{'apple', 'banana', 'cherry'}"
      ]
     },
     "execution_count": 8,
     "metadata": {},
     "output_type": "execute_result"
    }
   ],
   "source": [
    "set2"
   ]
  },
  {
   "cell_type": "code",
   "execution_count": 9,
   "id": "6a06896e-41e0-4e2b-994d-2445d1021051",
   "metadata": {},
   "outputs": [
    {
     "data": {
      "text/plain": [
       "set"
      ]
     },
     "execution_count": 9,
     "metadata": {},
     "output_type": "execute_result"
    }
   ],
   "source": [
    "type(set2)"
   ]
  },
  {
   "cell_type": "code",
   "execution_count": 10,
   "id": "6125becf-ef2b-4515-a7aa-72a731e5e71f",
   "metadata": {},
   "outputs": [],
   "source": [
    "set3 = {10,3.14,4+5j,\"Sandesh\",True,False}   # Creating a set with different data types"
   ]
  },
  {
   "cell_type": "code",
   "execution_count": 11,
   "id": "2bce8004-2ceb-4dd3-9c8a-28e0b4e1dcf8",
   "metadata": {},
   "outputs": [
    {
     "data": {
      "text/plain": [
       "{(4+5j), 10, 3.14, False, 'Sandesh', True}"
      ]
     },
     "execution_count": 11,
     "metadata": {},
     "output_type": "execute_result"
    }
   ],
   "source": [
    "set3"
   ]
  },
  {
   "cell_type": "code",
   "execution_count": 12,
   "id": "f2352966-595f-4c78-ab02-c2488e4ee574",
   "metadata": {},
   "outputs": [],
   "source": [
    "# It Is Unorder Thats Why We Get Output Like This."
   ]
  },
  {
   "cell_type": "code",
   "execution_count": 13,
   "id": "93540d83-db21-4894-a2a1-cb8f805b5e3d",
   "metadata": {},
   "outputs": [],
   "source": [
    "set4 = {1,2,3,1,2,3}"
   ]
  },
  {
   "cell_type": "code",
   "execution_count": 14,
   "id": "68b9be2b-5c0c-4b15-8a36-eeabde8c596e",
   "metadata": {},
   "outputs": [
    {
     "data": {
      "text/plain": [
       "{1, 2, 3}"
      ]
     },
     "execution_count": 14,
     "metadata": {},
     "output_type": "execute_result"
    }
   ],
   "source": [
    "set4         # it does not allow duplicate values."
   ]
  },
  {
   "cell_type": "code",
   "execution_count": 15,
   "id": "bd93a3d4-1f16-47ef-99ff-09a24eba4dac",
   "metadata": {},
   "outputs": [],
   "source": [
    "# IMP Notes\n",
    "#  Unordered – No indexing or ordering\n",
    "# Mutable – Can add or remove elements\n",
    "# Unique Elements – No duplicates allowed"
   ]
  },
  {
   "cell_type": "code",
   "execution_count": null,
   "id": "bc7cd636-4551-4bd9-853c-97f19826a9e6",
   "metadata": {},
   "outputs": [],
   "source": []
  }
 ],
 "metadata": {
  "kernelspec": {
   "display_name": "Python 3 (ipykernel)",
   "language": "python",
   "name": "python3"
  },
  "language_info": {
   "codemirror_mode": {
    "name": "ipython",
    "version": 3
   },
   "file_extension": ".py",
   "mimetype": "text/x-python",
   "name": "python",
   "nbconvert_exporter": "python",
   "pygments_lexer": "ipython3",
   "version": "3.12.7"
  }
 },
 "nbformat": 4,
 "nbformat_minor": 5
}
