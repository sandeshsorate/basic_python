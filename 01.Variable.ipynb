{
 "cells": [
  {
   "cell_type": "markdown",
   "id": "3727b290-8ff3-4729-948a-2776557cb87c",
   "metadata": {},
   "source": [
    "# Variable"
   ]
  },
  {
   "cell_type": "code",
   "execution_count": 1,
   "id": "1036ddd8-3526-4324-8219-6ff362026e06",
   "metadata": {},
   "outputs": [],
   "source": [
    "#Question : What Is Variable?"
   ]
  },
  {
   "cell_type": "code",
   "execution_count": 5,
   "id": "56b688a6-ed5e-40b4-9d44-e14306e11726",
   "metadata": {},
   "outputs": [],
   "source": [
    "# A variable is like a box where you can store a piece of information. \n",
    "# You can give it a name (like age, score, or name,a,b,c,d,a1,a2,a3), \n",
    "# and it can hold different types of information, such as numbers, words, or even lists of things."
   ]
  },
  {
   "cell_type": "code",
   "execution_count": 6,
   "id": "f605de7e-1099-4282-a4d1-44c815cc6e8e",
   "metadata": {},
   "outputs": [],
   "source": [
    "# Examples"
   ]
  },
  {
   "cell_type": "code",
   "execution_count": 20,
   "id": "4e347f8e-a469-44ff-84cb-2061ba1ec2a1",
   "metadata": {},
   "outputs": [],
   "source": [
    "age = 24      # \"age\" is a variable holding the integer value \"24\"."
   ]
  },
  {
   "cell_type": "code",
   "execution_count": 21,
   "id": "af2d2ede-004b-4d0c-aa4d-0cd2f85fcead",
   "metadata": {},
   "outputs": [
    {
     "data": {
      "text/plain": [
       "int"
      ]
     },
     "execution_count": 21,
     "metadata": {},
     "output_type": "execute_result"
    }
   ],
   "source": [
    "type(age)"
   ]
  },
  {
   "cell_type": "code",
   "execution_count": 16,
   "id": "c839cdb9-0c2e-44fa-96af-612523e1b5be",
   "metadata": {},
   "outputs": [],
   "source": [
    "hieght = 5.5       # \"hieght\" is a variable holding the float value 5.5"
   ]
  },
  {
   "cell_type": "code",
   "execution_count": 22,
   "id": "8b3938f0-f8fb-4132-966a-e84518349b0a",
   "metadata": {},
   "outputs": [
    {
     "data": {
      "text/plain": [
       "float"
      ]
     },
     "execution_count": 22,
     "metadata": {},
     "output_type": "execute_result"
    }
   ],
   "source": [
    "type(hieght)"
   ]
  },
  {
   "cell_type": "code",
   "execution_count": 18,
   "id": "bc7c6403-faa1-4c5d-b14e-0451dceb4057",
   "metadata": {},
   "outputs": [],
   "source": [
    "z = 3 + 4j       # \"z\" is a variable holding the complex value \"(3+4j)\"."
   ]
  },
  {
   "cell_type": "code",
   "execution_count": 23,
   "id": "511a55d5-af01-43ea-8ad5-b05c6110a42c",
   "metadata": {},
   "outputs": [
    {
     "data": {
      "text/plain": [
       "complex"
      ]
     },
     "execution_count": 23,
     "metadata": {},
     "output_type": "execute_result"
    }
   ],
   "source": [
    "type(z)"
   ]
  },
  {
   "cell_type": "code",
   "execution_count": 19,
   "id": "bd11d761-f982-444d-ad47-535df4962ea5",
   "metadata": {},
   "outputs": [],
   "source": [
    "name = \"sandesh\"   # \"name\" is a variable holding the string value \"sandesh\"."
   ]
  },
  {
   "cell_type": "code",
   "execution_count": 24,
   "id": "dcf3efb1-190e-4a32-9019-40d6aaf601e9",
   "metadata": {},
   "outputs": [
    {
     "data": {
      "text/plain": [
       "str"
      ]
     },
     "execution_count": 24,
     "metadata": {},
     "output_type": "execute_result"
    }
   ],
   "source": [
    "type(name)"
   ]
  },
  {
   "cell_type": "code",
   "execution_count": 13,
   "id": "654b8af1-4dde-4592-87ad-a9794cf674d7",
   "metadata": {},
   "outputs": [],
   "source": [
    "is_raining = True   # \"is_raining\" is a variable holding the boolean value True"
   ]
  },
  {
   "cell_type": "code",
   "execution_count": 25,
   "id": "3eeb6889-c993-485d-be64-e71716231d27",
   "metadata": {},
   "outputs": [
    {
     "data": {
      "text/plain": [
       "bool"
      ]
     },
     "execution_count": 25,
     "metadata": {},
     "output_type": "execute_result"
    }
   ],
   "source": [
    "type(is_raining)"
   ]
  },
  {
   "cell_type": "code",
   "execution_count": 14,
   "id": "35289856-d79a-41d5-b1fa-c16aedc3e4c5",
   "metadata": {},
   "outputs": [],
   "source": [
    "is_sunny = False   # \"is_sunny\" is a variable holding the boolean value False."
   ]
  },
  {
   "cell_type": "code",
   "execution_count": 26,
   "id": "babed3df-20a9-47b0-9615-e1978bf319bd",
   "metadata": {},
   "outputs": [
    {
     "data": {
      "text/plain": [
       "bool"
      ]
     },
     "execution_count": 26,
     "metadata": {},
     "output_type": "execute_result"
    }
   ],
   "source": [
    "type(is_sunny)"
   ]
  },
  {
   "cell_type": "code",
   "execution_count": 27,
   "id": "605df6a4-dae5-4357-9f29-361a12d108cc",
   "metadata": {},
   "outputs": [],
   "source": [
    "# it can hold different types of information even lists of things.like (list,tuple,set,dic)"
   ]
  },
  {
   "cell_type": "code",
   "execution_count": null,
   "id": "ddfdda6e-a4fc-4186-9a18-2f779b19a5e2",
   "metadata": {},
   "outputs": [],
   "source": []
  }
 ],
 "metadata": {
  "kernelspec": {
   "display_name": "Python 3 (ipykernel)",
   "language": "python",
   "name": "python3"
  },
  "language_info": {
   "codemirror_mode": {
    "name": "ipython",
    "version": 3
   },
   "file_extension": ".py",
   "mimetype": "text/x-python",
   "name": "python",
   "nbconvert_exporter": "python",
   "pygments_lexer": "ipython3",
   "version": "3.12.7"
  }
 },
 "nbformat": 4,
 "nbformat_minor": 5
}
