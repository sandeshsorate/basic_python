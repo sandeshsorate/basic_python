{
 "cells": [
  {
   "cell_type": "markdown",
   "id": "3c889faa-0d75-477a-8520-e450753b6fed",
   "metadata": {},
   "source": [
    "# Logical Operators"
   ]
  },
  {
   "cell_type": "code",
   "execution_count": 1,
   "id": "3be82e49-4fbd-45ee-9b5e-dcdf446f7f51",
   "metadata": {},
   "outputs": [],
   "source": [
    "# Logical operators are used to perform logical operations on values, typically in Boolean logic (true or false)."
   ]
  },
  {
   "cell_type": "markdown",
   "id": "02aa99c3-7d2b-48f7-b122-84dfadd868bb",
   "metadata": {},
   "source": [
    "# AND (&) Operator"
   ]
  },
  {
   "cell_type": "code",
   "execution_count": 2,
   "id": "290041e4-3bc5-4fa8-8dcf-add82e62efe8",
   "metadata": {},
   "outputs": [],
   "source": [
    "# TRUE & TRUE = TRUE\n",
    "\n",
    "# TRUE & FALSE = FALSE\n",
    "# FALSE & TRUE = FALSE\n",
    "# FALSE & FALSE = FALSE\n",
    "\n",
    "# IMP : Returns True if both statements are true in ('&'-Operator) otherwise always returns FALSE."
   ]
  },
  {
   "cell_type": "code",
   "execution_count": 3,
   "id": "3d6b1a96-e109-4a45-86bf-425860fb63fd",
   "metadata": {},
   "outputs": [],
   "source": [
    "a = True\n",
    "b = False"
   ]
  },
  {
   "cell_type": "code",
   "execution_count": 4,
   "id": "1f8d91d0-8566-4d0f-9f61-ea454d3e3be0",
   "metadata": {},
   "outputs": [
    {
     "data": {
      "text/plain": [
       "True"
      ]
     },
     "execution_count": 4,
     "metadata": {},
     "output_type": "execute_result"
    }
   ],
   "source": [
    "a & a         # Returns True Because Both Statements Are True."
   ]
  },
  {
   "cell_type": "code",
   "execution_count": 5,
   "id": "d0adeba3-d0d7-479c-b5ca-cc288b994591",
   "metadata": {},
   "outputs": [
    {
     "data": {
      "text/plain": [
       "False"
      ]
     },
     "execution_count": 5,
     "metadata": {},
     "output_type": "execute_result"
    }
   ],
   "source": [
    "a & b"
   ]
  },
  {
   "cell_type": "code",
   "execution_count": 6,
   "id": "ad35616c-274a-4044-8b09-64527b37b9ea",
   "metadata": {},
   "outputs": [
    {
     "data": {
      "text/plain": [
       "False"
      ]
     },
     "execution_count": 6,
     "metadata": {},
     "output_type": "execute_result"
    }
   ],
   "source": [
    "b & a"
   ]
  },
  {
   "cell_type": "code",
   "execution_count": 7,
   "id": "11352ab1-99bc-48c0-bb8c-5d6bab3795e7",
   "metadata": {},
   "outputs": [
    {
     "data": {
      "text/plain": [
       "False"
      ]
     },
     "execution_count": 7,
     "metadata": {},
     "output_type": "execute_result"
    }
   ],
   "source": [
    "b & b"
   ]
  },
  {
   "cell_type": "markdown",
   "id": "711f2d70-aec0-4674-a64c-dbd034e5930c",
   "metadata": {},
   "source": [
    "# OR (|) Operator."
   ]
  },
  {
   "cell_type": "code",
   "execution_count": 8,
   "id": "928dcdae-13ce-450a-9d48-baf0fc10e352",
   "metadata": {},
   "outputs": [],
   "source": [
    "# TRUE | TRUE = TRUE\n",
    "# TRUE | FALSE = TRUE\n",
    "# FALSE | TRUE = TRUE\n",
    "\n",
    "# FALSE | FALSE = FALSE\n",
    "\n",
    "# IMP : \tReturns True if one of the statements is true.when both statement are false then we get false."
   ]
  },
  {
   "cell_type": "code",
   "execution_count": 9,
   "id": "9b92ff60-8999-473c-8ed2-14832eb36431",
   "metadata": {},
   "outputs": [],
   "source": [
    "a = True\n",
    "b = False"
   ]
  },
  {
   "cell_type": "code",
   "execution_count": 10,
   "id": "15834572-79fb-409d-b76b-97be744f5306",
   "metadata": {},
   "outputs": [
    {
     "data": {
      "text/plain": [
       "True"
      ]
     },
     "execution_count": 10,
     "metadata": {},
     "output_type": "execute_result"
    }
   ],
   "source": [
    "a | a"
   ]
  },
  {
   "cell_type": "code",
   "execution_count": 11,
   "id": "698a10ef-df5b-467e-83a5-a9cee66ea12e",
   "metadata": {},
   "outputs": [
    {
     "data": {
      "text/plain": [
       "True"
      ]
     },
     "execution_count": 11,
     "metadata": {},
     "output_type": "execute_result"
    }
   ],
   "source": [
    "a | b"
   ]
  },
  {
   "cell_type": "code",
   "execution_count": 12,
   "id": "ed4dc44b-eb20-4bb8-8aad-a39177610f8e",
   "metadata": {},
   "outputs": [
    {
     "data": {
      "text/plain": [
       "True"
      ]
     },
     "execution_count": 12,
     "metadata": {},
     "output_type": "execute_result"
    }
   ],
   "source": [
    "b | a"
   ]
  },
  {
   "cell_type": "code",
   "execution_count": 13,
   "id": "c2066952-a489-4657-88f2-47fd0721e0e2",
   "metadata": {},
   "outputs": [
    {
     "data": {
      "text/plain": [
       "False"
      ]
     },
     "execution_count": 13,
     "metadata": {},
     "output_type": "execute_result"
    }
   ],
   "source": [
    "b | b         # Both Staetements are false so we get false."
   ]
  },
  {
   "cell_type": "code",
   "execution_count": null,
   "id": "67199acf-499f-44a4-9356-dd78ff4ef489",
   "metadata": {},
   "outputs": [],
   "source": []
  }
 ],
 "metadata": {
  "kernelspec": {
   "display_name": "Python 3 (ipykernel)",
   "language": "python",
   "name": "python3"
  },
  "language_info": {
   "codemirror_mode": {
    "name": "ipython",
    "version": 3
   },
   "file_extension": ".py",
   "mimetype": "text/x-python",
   "name": "python",
   "nbconvert_exporter": "python",
   "pygments_lexer": "ipython3",
   "version": "3.12.7"
  }
 },
 "nbformat": 4,
 "nbformat_minor": 5
}
