{
 "cells": [
  {
   "cell_type": "markdown",
   "id": "7f811892-5a04-4c0d-9aba-8931243d8ab1",
   "metadata": {},
   "source": [
    "# Dictionary"
   ]
  },
  {
   "cell_type": "code",
   "execution_count": 2,
   "id": "2e685260-7fa3-468c-a25c-37d5a7fe9b79",
   "metadata": {},
   "outputs": [],
   "source": [
    "# A Dictionary is created using Curly Brackets {}\n",
    "# A dictionary is a data structure that stores data in key-value pairs.\n",
    "# Mutable – Values can be changed after creation.\n",
    "# Indexed by Keys – Instead of numerical indexing like lists, dictionaries use keys."
   ]
  },
  {
   "cell_type": "code",
   "execution_count": 6,
   "id": "de4529e5-3137-4d17-a07f-ecacf88c0abf",
   "metadata": {},
   "outputs": [],
   "source": [
    "fruit = {'Apple':10,'Orange':20,'Banana':30,'Watermelon':40}   # Left side Keys And Right Side Values"
   ]
  },
  {
   "cell_type": "code",
   "execution_count": 4,
   "id": "4281b679-59f6-4e71-98ad-5d559b29f763",
   "metadata": {},
   "outputs": [
    {
     "data": {
      "text/plain": [
       "{'Apple': 10, 'Orange': 20, 'Banana': 30, 'Watermelon': 40}"
      ]
     },
     "execution_count": 4,
     "metadata": {},
     "output_type": "execute_result"
    }
   ],
   "source": [
    "fruit"
   ]
  },
  {
   "cell_type": "code",
   "execution_count": 5,
   "id": "cc22b0bd-0eee-4f55-918f-ceda2e2518b6",
   "metadata": {},
   "outputs": [
    {
     "data": {
      "text/plain": [
       "dict"
      ]
     },
     "execution_count": 5,
     "metadata": {},
     "output_type": "execute_result"
    }
   ],
   "source": [
    "type(fruit)"
   ]
  },
  {
   "cell_type": "code",
   "execution_count": 8,
   "id": "3f9f8bd4-3d21-4397-9267-90ba9f9c2463",
   "metadata": {},
   "outputs": [
    {
     "data": {
      "text/plain": [
       "dict_keys(['Apple', 'Orange', 'Banana', 'Watermelon'])"
      ]
     },
     "execution_count": 8,
     "metadata": {},
     "output_type": "execute_result"
    }
   ],
   "source": [
    "fruit.keys()"
   ]
  },
  {
   "cell_type": "code",
   "execution_count": 9,
   "id": "be03aca2-a834-4cdb-b12b-580bd9561850",
   "metadata": {},
   "outputs": [
    {
     "data": {
      "text/plain": [
       "dict_values([10, 20, 30, 40])"
      ]
     },
     "execution_count": 9,
     "metadata": {},
     "output_type": "execute_result"
    }
   ],
   "source": [
    "fruit.values()"
   ]
  },
  {
   "cell_type": "markdown",
   "id": "7bd5ede6-0278-4dc6-9f2a-df0754ac497e",
   "metadata": {},
   "source": [
    "# How To Change Keys And Values?"
   ]
  },
  {
   "cell_type": "code",
   "execution_count": 37,
   "id": "2184a314-51c2-4e6f-91a0-45ffb9c8f507",
   "metadata": {},
   "outputs": [],
   "source": [
    "fruit = {'Apple':10,'Orange':20,'Banana':30,'Watermelon':40} "
   ]
  },
  {
   "cell_type": "code",
   "execution_count": 38,
   "id": "7c64b376-efa9-46ee-9298-e0aa78c1411f",
   "metadata": {},
   "outputs": [
    {
     "data": {
      "text/plain": [
       "10"
      ]
     },
     "execution_count": 38,
     "metadata": {},
     "output_type": "execute_result"
    }
   ],
   "source": [
    "fruit.pop('Apple')"
   ]
  },
  {
   "cell_type": "code",
   "execution_count": 39,
   "id": "e5d3fa6b-dedc-41a3-af2d-eb838ee6709e",
   "metadata": {},
   "outputs": [
    {
     "name": "stdout",
     "output_type": "stream",
     "text": [
      "{'Orange': 20, 'Banana': 30, 'Watermelon': 40}\n"
     ]
    }
   ],
   "source": [
    "print(fruit)"
   ]
  },
  {
   "cell_type": "code",
   "execution_count": 40,
   "id": "5856ae2c-f5a2-446c-942e-9a473d3d5968",
   "metadata": {},
   "outputs": [],
   "source": [
    "fruit['Strawberry'] = 10"
   ]
  },
  {
   "cell_type": "code",
   "execution_count": 41,
   "id": "ed0d9d33-3f06-4345-902c-8551812ac5e7",
   "metadata": {},
   "outputs": [
    {
     "data": {
      "text/plain": [
       "{'Orange': 20, 'Banana': 30, 'Watermelon': 40, 'Strawberry': 10}"
      ]
     },
     "execution_count": 41,
     "metadata": {},
     "output_type": "execute_result"
    }
   ],
   "source": [
    "fruit"
   ]
  },
  {
   "cell_type": "code",
   "execution_count": 42,
   "id": "6d0b0858-5b47-4188-a073-147d4ae98b7c",
   "metadata": {},
   "outputs": [],
   "source": [
    "fruit['Orange'] = 40"
   ]
  },
  {
   "cell_type": "code",
   "execution_count": 43,
   "id": "477da264-9437-440d-8c31-8a4b0ce623b7",
   "metadata": {},
   "outputs": [
    {
     "data": {
      "text/plain": [
       "{'Orange': 40, 'Banana': 30, 'Watermelon': 40, 'Strawberry': 10}"
      ]
     },
     "execution_count": 43,
     "metadata": {},
     "output_type": "execute_result"
    }
   ],
   "source": [
    "fruit"
   ]
  },
  {
   "cell_type": "code",
   "execution_count": 44,
   "id": "ce8097f1-a6cf-43c9-96e3-7817dd63fea1",
   "metadata": {},
   "outputs": [],
   "source": [
    "# IMP Notes \n",
    "# We Can Change Only Values in Dictionary Data Structure.\n",
    "# We Can't Change Keys But We Can Delete Previous One And Add New Elements."
   ]
  },
  {
   "cell_type": "code",
   "execution_count": null,
   "id": "c0da728f-56e2-4fc8-85fd-aad92aa73a2f",
   "metadata": {},
   "outputs": [],
   "source": []
  }
 ],
 "metadata": {
  "kernelspec": {
   "display_name": "Python 3 (ipykernel)",
   "language": "python",
   "name": "python3"
  },
  "language_info": {
   "codemirror_mode": {
    "name": "ipython",
    "version": 3
   },
   "file_extension": ".py",
   "mimetype": "text/x-python",
   "name": "python",
   "nbconvert_exporter": "python",
   "pygments_lexer": "ipython3",
   "version": "3.12.7"
  }
 },
 "nbformat": 4,
 "nbformat_minor": 5
}
