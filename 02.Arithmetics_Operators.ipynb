{
 "cells": [
  {
   "cell_type": "markdown",
   "id": "3de101ee-35c2-44d0-9ece-b595432a6a70",
   "metadata": {},
   "source": [
    "# Arithmetics Operators"
   ]
  },
  {
   "cell_type": "code",
   "execution_count": 4,
   "id": "cd5411a6-fce3-463f-ba46-1b9e0cf124c3",
   "metadata": {},
   "outputs": [],
   "source": [
    "# Arithmetic operators are used to perform mathematical operations \n",
    "# like addition, subtraction, multiplication, and more."
   ]
  },
  {
   "cell_type": "markdown",
   "id": "92e91cb3-ca12-4fb9-8d5a-4c59240314e0",
   "metadata": {},
   "source": [
    "# (Addition) = (+)"
   ]
  },
  {
   "cell_type": "code",
   "execution_count": 7,
   "id": "a7fee837-ac09-46f8-ba6e-7d62c6c9ca63",
   "metadata": {},
   "outputs": [],
   "source": [
    "a = 5\n",
    "b = 3"
   ]
  },
  {
   "cell_type": "code",
   "execution_count": 8,
   "id": "03ba0911-55c9-4387-9e25-354db50a310e",
   "metadata": {},
   "outputs": [
    {
     "data": {
      "text/plain": [
       "8"
      ]
     },
     "execution_count": 8,
     "metadata": {},
     "output_type": "execute_result"
    }
   ],
   "source": [
    "a + b"
   ]
  },
  {
   "cell_type": "markdown",
   "id": "62076e95-17bc-4cad-af3f-e5477afab225",
   "metadata": {},
   "source": [
    "# (Subtraction) = (-)"
   ]
  },
  {
   "cell_type": "code",
   "execution_count": 10,
   "id": "80f28829-737d-450e-a13b-5e8d86e76519",
   "metadata": {},
   "outputs": [],
   "source": [
    "a = 5\n",
    "b = 3"
   ]
  },
  {
   "cell_type": "code",
   "execution_count": 11,
   "id": "3db4bf9b-9ef3-4e29-9e21-b7d49eeb1805",
   "metadata": {},
   "outputs": [
    {
     "data": {
      "text/plain": [
       "2"
      ]
     },
     "execution_count": 11,
     "metadata": {},
     "output_type": "execute_result"
    }
   ],
   "source": [
    "a - b"
   ]
  },
  {
   "cell_type": "markdown",
   "id": "79f81be1-6f87-42d4-96b6-11469dab527e",
   "metadata": {},
   "source": [
    "# (Multiplication) = (*)"
   ]
  },
  {
   "cell_type": "code",
   "execution_count": 15,
   "id": "09ce7ae6-0eca-4f0a-ab9c-ed583a706ab8",
   "metadata": {},
   "outputs": [],
   "source": [
    "a = 5\n",
    "b = 3"
   ]
  },
  {
   "cell_type": "code",
   "execution_count": 16,
   "id": "c45eb06e-d95a-4290-b1e4-827378aebc7a",
   "metadata": {},
   "outputs": [
    {
     "data": {
      "text/plain": [
       "15"
      ]
     },
     "execution_count": 16,
     "metadata": {},
     "output_type": "execute_result"
    }
   ],
   "source": [
    "a * b"
   ]
  },
  {
   "cell_type": "markdown",
   "id": "0e600863-baad-4d99-8490-db049b4c5e83",
   "metadata": {},
   "source": [
    "# (Division) = (/)"
   ]
  },
  {
   "cell_type": "code",
   "execution_count": 18,
   "id": "0f9a6953-2d43-4a3c-885c-6d06b7010c81",
   "metadata": {},
   "outputs": [],
   "source": [
    "a = 5\n",
    "b = 2"
   ]
  },
  {
   "cell_type": "code",
   "execution_count": 19,
   "id": "d15a9730-c355-432a-83c1-4e19e900aef8",
   "metadata": {},
   "outputs": [
    {
     "data": {
      "text/plain": [
       "2.5"
      ]
     },
     "execution_count": 19,
     "metadata": {},
     "output_type": "execute_result"
    }
   ],
   "source": [
    "a / b"
   ]
  },
  {
   "cell_type": "markdown",
   "id": "46abe5fe-bc57-4c09-9287-2439c335f228",
   "metadata": {},
   "source": [
    "# (Modulus-Remainder) = (%)"
   ]
  },
  {
   "cell_type": "code",
   "execution_count": 21,
   "id": "9bba7e6b-8174-4337-907c-d17f98aacb74",
   "metadata": {},
   "outputs": [],
   "source": [
    "a = 5\n",
    "b = 2"
   ]
  },
  {
   "cell_type": "code",
   "execution_count": 22,
   "id": "1b97e95a-84c8-499d-afd7-96649971a292",
   "metadata": {},
   "outputs": [
    {
     "data": {
      "text/plain": [
       "1"
      ]
     },
     "execution_count": 22,
     "metadata": {},
     "output_type": "execute_result"
    }
   ],
   "source": [
    "a % b"
   ]
  },
  {
   "cell_type": "markdown",
   "id": "8376e97c-ba5c-4380-8e5e-df6db8ef54b5",
   "metadata": {},
   "source": [
    "# Exponentiation (Power) = (**)"
   ]
  },
  {
   "cell_type": "code",
   "execution_count": 25,
   "id": "56e6d09e-3119-4eae-9fb1-afe63a556db0",
   "metadata": {},
   "outputs": [],
   "source": [
    "a = 10\n",
    "b = 3"
   ]
  },
  {
   "cell_type": "code",
   "execution_count": 27,
   "id": "8977dcc0-4493-4991-9363-52ed293d8c57",
   "metadata": {},
   "outputs": [
    {
     "data": {
      "text/plain": [
       "1000"
      ]
     },
     "execution_count": 27,
     "metadata": {},
     "output_type": "execute_result"
    }
   ],
   "source": [
    "a ** b            # 10 x 10 x 10 = 1000"
   ]
  },
  {
   "cell_type": "markdown",
   "id": "802c54c3-7b85-4874-bb96-f87fa6105a14",
   "metadata": {},
   "source": [
    "# Floor Division = (//)"
   ]
  },
  {
   "cell_type": "code",
   "execution_count": 28,
   "id": "2392bc03-d8e5-431e-98fa-37188e9bb25f",
   "metadata": {},
   "outputs": [],
   "source": [
    "a = 10\n",
    "b = 3"
   ]
  },
  {
   "cell_type": "code",
   "execution_count": 29,
   "id": "26a8963c-4ea0-4e51-961f-a62ff72bdc01",
   "metadata": {},
   "outputs": [
    {
     "data": {
      "text/plain": [
       "3"
      ]
     },
     "execution_count": 29,
     "metadata": {},
     "output_type": "execute_result"
    }
   ],
   "source": [
    "a // b"
   ]
  },
  {
   "cell_type": "code",
   "execution_count": 30,
   "id": "36d5e963-5531-471c-b6ce-b6c20b0a5108",
   "metadata": {},
   "outputs": [],
   "source": [
    "# Division (/):Always returns a floating-point number And \n",
    "# Floor Division (//): Returns an integer (rounded down)"
   ]
  },
  {
   "cell_type": "code",
   "execution_count": null,
   "id": "4a8b4a16-9305-4cb1-bb47-be9e19ee8b2e",
   "metadata": {},
   "outputs": [],
   "source": []
  }
 ],
 "metadata": {
  "kernelspec": {
   "display_name": "Python 3 (ipykernel)",
   "language": "python",
   "name": "python3"
  },
  "language_info": {
   "codemirror_mode": {
    "name": "ipython",
    "version": 3
   },
   "file_extension": ".py",
   "mimetype": "text/x-python",
   "name": "python",
   "nbconvert_exporter": "python",
   "pygments_lexer": "ipython3",
   "version": "3.12.7"
  }
 },
 "nbformat": 4,
 "nbformat_minor": 5
}
