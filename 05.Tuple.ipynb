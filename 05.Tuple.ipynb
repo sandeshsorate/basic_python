{
 "cells": [
  {
   "cell_type": "markdown",
   "id": "e7336ad6-003c-4771-8262-8f88b0774d6b",
   "metadata": {},
   "source": [
    "# Tuple"
   ]
  },
  {
   "cell_type": "code",
   "execution_count": 13,
   "id": "ebe32468-e3a8-42e2-b967-3e8c6dd380df",
   "metadata": {},
   "outputs": [],
   "source": [
    "# A tuple is created using parentheses (),\n",
    "# and elements inside are separated by commas.\n",
    "\n",
    "# A tuple is like a list,\n",
    "# but you can't change it after creating it. \n",
    "# It keeps items in order and can store different types of data.(int,float,str,boolean)\n",
    "# You make a tuple using parentheses ()."
   ]
  },
  {
   "cell_type": "code",
   "execution_count": 2,
   "id": "096dbca9-f168-4c6d-8907-edcb3c377d4b",
   "metadata": {},
   "outputs": [],
   "source": [
    "tup1 = (1,2,3,4,5)    # Creating a tuple with numbers"
   ]
  },
  {
   "cell_type": "code",
   "execution_count": 3,
   "id": "9e7499f2-fa29-412e-a43c-3a888425a694",
   "metadata": {},
   "outputs": [
    {
     "data": {
      "text/plain": [
       "(1, 2, 3, 4, 5)"
      ]
     },
     "execution_count": 3,
     "metadata": {},
     "output_type": "execute_result"
    }
   ],
   "source": [
    "tup1"
   ]
  },
  {
   "cell_type": "code",
   "execution_count": 4,
   "id": "9144ae6e-8b1d-4851-9ee5-118a35dbd5c7",
   "metadata": {},
   "outputs": [
    {
     "data": {
      "text/plain": [
       "tuple"
      ]
     },
     "execution_count": 4,
     "metadata": {},
     "output_type": "execute_result"
    }
   ],
   "source": [
    "type(tup1)"
   ]
  },
  {
   "cell_type": "code",
   "execution_count": 6,
   "id": "652d0ceb-ef9f-4a78-b408-bc81c66c4674",
   "metadata": {},
   "outputs": [],
   "source": [
    "tup2 = ('apple', 'banana', 'cherry')    # Creating a tuple with string values"
   ]
  },
  {
   "cell_type": "code",
   "execution_count": 7,
   "id": "69052f48-d2f4-4781-b7b3-424701237fd2",
   "metadata": {},
   "outputs": [
    {
     "data": {
      "text/plain": [
       "('apple', 'banana', 'cherry')"
      ]
     },
     "execution_count": 7,
     "metadata": {},
     "output_type": "execute_result"
    }
   ],
   "source": [
    "tup2"
   ]
  },
  {
   "cell_type": "code",
   "execution_count": 8,
   "id": "9d99c877-bfa9-494e-8853-a9ebb407dbc1",
   "metadata": {},
   "outputs": [
    {
     "data": {
      "text/plain": [
       "tuple"
      ]
     },
     "execution_count": 8,
     "metadata": {},
     "output_type": "execute_result"
    }
   ],
   "source": [
    "type(tup2)"
   ]
  },
  {
   "cell_type": "code",
   "execution_count": 9,
   "id": "79efea2f-6eb3-452a-a9a9-752a26c5878d",
   "metadata": {},
   "outputs": [],
   "source": [
    "tup3 = (10,3.14,4+5j,\"Sandesh\",True,False,)   # Creating a tuple with different data types"
   ]
  },
  {
   "cell_type": "code",
   "execution_count": 10,
   "id": "7865394c-1425-431c-982d-892cd3ba3f56",
   "metadata": {},
   "outputs": [
    {
     "data": {
      "text/plain": [
       "(10, 3.14, (4+5j), 'Sandesh', True, False)"
      ]
     },
     "execution_count": 10,
     "metadata": {},
     "output_type": "execute_result"
    }
   ],
   "source": [
    "tup3"
   ]
  },
  {
   "cell_type": "code",
   "execution_count": 11,
   "id": "fb7489e5-a025-4dec-a59d-b7638736baab",
   "metadata": {},
   "outputs": [
    {
     "data": {
      "text/plain": [
       "tuple"
      ]
     },
     "execution_count": 11,
     "metadata": {},
     "output_type": "execute_result"
    }
   ],
   "source": [
    "type(tup3)"
   ]
  },
  {
   "cell_type": "code",
   "execution_count": 12,
   "id": "4ba4257e-dcef-4c98-b146-d6b6877449be",
   "metadata": {},
   "outputs": [],
   "source": [
    "# IMP Information About Tuple\n",
    "\n",
    "# Ordered → Elements maintain their position.\n",
    "# Immutable → Cannot be changed (no adding, removing, or modifying elements).\n",
    "# Allows Duplicates → Can contain repeated values.\n",
    "# Can Store Multiple Data Types → Numbers, strings, lists, etc"
   ]
  },
  {
   "cell_type": "code",
   "execution_count": null,
   "id": "0a93af33-dc5b-4afe-8163-309065d74005",
   "metadata": {},
   "outputs": [],
   "source": []
  }
 ],
 "metadata": {
  "kernelspec": {
   "display_name": "Python 3 (ipykernel)",
   "language": "python",
   "name": "python3"
  },
  "language_info": {
   "codemirror_mode": {
    "name": "ipython",
    "version": 3
   },
   "file_extension": ".py",
   "mimetype": "text/x-python",
   "name": "python",
   "nbconvert_exporter": "python",
   "pygments_lexer": "ipython3",
   "version": "3.12.7"
  }
 },
 "nbformat": 4,
 "nbformat_minor": 5
}
