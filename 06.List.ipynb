{
 "cells": [
  {
   "cell_type": "markdown",
   "id": "2ed05e8f-d113-417d-ac82-235944de23f9",
   "metadata": {},
   "source": [
    "# List "
   ]
  },
  {
   "cell_type": "code",
   "execution_count": 1,
   "id": "a460f1b0-733a-4f22-9a40-c2a80b4888ae",
   "metadata": {},
   "outputs": [],
   "source": [
    "# A list is created using [],Sqaure Brackets\n",
    "# and elements inside are separated by commas.\n",
    "\n",
    "#A list is a data structure used to store an ordered collection of elements.\n",
    "# list allows elements of different types, and it supports operations like adding, removing, or modifying elements.\n",
    "# list is mutable (modifiable)."
   ]
  },
  {
   "cell_type": "code",
   "execution_count": 2,
   "id": "49a15a61-51ba-44fb-8f42-f30ec98de1fa",
   "metadata": {},
   "outputs": [],
   "source": [
    "l1 = [1,2,3,4,5]    # Creating a list with int numbers."
   ]
  },
  {
   "cell_type": "code",
   "execution_count": 3,
   "id": "1d98c6a0-7863-4335-9fe1-b9ea719ac569",
   "metadata": {},
   "outputs": [
    {
     "data": {
      "text/plain": [
       "[1, 2, 3, 4, 5]"
      ]
     },
     "execution_count": 3,
     "metadata": {},
     "output_type": "execute_result"
    }
   ],
   "source": [
    "l1"
   ]
  },
  {
   "cell_type": "code",
   "execution_count": 4,
   "id": "cde2143f-5e79-4e4d-8e66-1e5fd654fd2f",
   "metadata": {},
   "outputs": [
    {
     "data": {
      "text/plain": [
       "list"
      ]
     },
     "execution_count": 4,
     "metadata": {},
     "output_type": "execute_result"
    }
   ],
   "source": [
    "type(l1)"
   ]
  },
  {
   "cell_type": "code",
   "execution_count": 5,
   "id": "08c60744-9f0b-4bdc-9ba5-9a2d8ecda243",
   "metadata": {},
   "outputs": [],
   "source": [
    "l2 = ['apple', 'banana', 'cherry']    # Creating a list with string values"
   ]
  },
  {
   "cell_type": "code",
   "execution_count": 6,
   "id": "e14c50fe-0097-406c-b532-f77773161859",
   "metadata": {},
   "outputs": [
    {
     "data": {
      "text/plain": [
       "['apple', 'banana', 'cherry']"
      ]
     },
     "execution_count": 6,
     "metadata": {},
     "output_type": "execute_result"
    }
   ],
   "source": [
    "l2"
   ]
  },
  {
   "cell_type": "code",
   "execution_count": 7,
   "id": "72894067-6d7b-474c-8e5b-937927a70e38",
   "metadata": {},
   "outputs": [
    {
     "data": {
      "text/plain": [
       "list"
      ]
     },
     "execution_count": 7,
     "metadata": {},
     "output_type": "execute_result"
    }
   ],
   "source": [
    "type(l2)"
   ]
  },
  {
   "cell_type": "code",
   "execution_count": 8,
   "id": "9600e5ed-a2fc-4b40-809c-71e477c64c55",
   "metadata": {},
   "outputs": [],
   "source": [
    "l3 = [10,3.14,4+5j,\"Sandesh\",True,False,]   # Creating a list with different data types"
   ]
  },
  {
   "cell_type": "code",
   "execution_count": 9,
   "id": "e4971550-761f-4cc1-ac73-26c87a7f6c42",
   "metadata": {},
   "outputs": [
    {
     "data": {
      "text/plain": [
       "[10, 3.14, (4+5j), 'Sandesh', True, False]"
      ]
     },
     "execution_count": 9,
     "metadata": {},
     "output_type": "execute_result"
    }
   ],
   "source": [
    "l3"
   ]
  },
  {
   "cell_type": "code",
   "execution_count": 10,
   "id": "02fede5e-db61-4088-831e-9cd8a7a204a1",
   "metadata": {},
   "outputs": [
    {
     "data": {
      "text/plain": [
       "list"
      ]
     },
     "execution_count": 10,
     "metadata": {},
     "output_type": "execute_result"
    }
   ],
   "source": [
    "type(l3)"
   ]
  },
  {
   "cell_type": "code",
   "execution_count": 11,
   "id": "7d8c4870-697d-40ab-9443-662c6e195fdd",
   "metadata": {},
   "outputs": [],
   "source": [
    "# IMP Information About List\n",
    "\n",
    "# Ordered → Elements maintain their position.\n",
    "# list is mutable (modifiable).it supports operations like adding, removing, or modifying elements.\n",
    "# Allows Duplicates → Can contain repeated values.\n",
    "# Can Store Multiple Data Types → Numbers, strings, lists, etc"
   ]
  },
  {
   "cell_type": "code",
   "execution_count": null,
   "id": "977abce6-d355-4aac-80dd-2225f84084b9",
   "metadata": {},
   "outputs": [],
   "source": []
  }
 ],
 "metadata": {
  "kernelspec": {
   "display_name": "Python 3 (ipykernel)",
   "language": "python",
   "name": "python3"
  },
  "language_info": {
   "codemirror_mode": {
    "name": "ipython",
    "version": 3
   },
   "file_extension": ".py",
   "mimetype": "text/x-python",
   "name": "python",
   "nbconvert_exporter": "python",
   "pygments_lexer": "ipython3",
   "version": "3.12.7"
  }
 },
 "nbformat": 4,
 "nbformat_minor": 5
}
