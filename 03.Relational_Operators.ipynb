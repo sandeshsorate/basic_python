{
 "cells": [
  {
   "cell_type": "markdown",
   "id": "7601fd42-7b70-494d-85d0-50dbb471c8ca",
   "metadata": {},
   "source": [
    "# Relational Operators"
   ]
  },
  {
   "cell_type": "code",
   "execution_count": 1,
   "id": "16475d2b-af3c-4fd1-ad91-631207dc8f07",
   "metadata": {},
   "outputs": [],
   "source": [
    "#Relational operators in Python are used to compare values and \n",
    "#return a Boolean result (True or False)."
   ]
  },
  {
   "cell_type": "markdown",
   "id": "caf6e9f3-f0db-468a-b2c7-d377b434b9a5",
   "metadata": {},
   "source": [
    "# Greater than (>)"
   ]
  },
  {
   "cell_type": "code",
   "execution_count": 3,
   "id": "d6dd40bc-b1e7-40fd-83f4-2e44ee9a9171",
   "metadata": {},
   "outputs": [],
   "source": [
    "# Checks the left value is greater than the right value.\n",
    "# if left value is greater then returs TRUE otherwise FALSE"
   ]
  },
  {
   "cell_type": "code",
   "execution_count": 5,
   "id": "669f1dc1-b065-40c0-adfa-c7a2e4bc514f",
   "metadata": {},
   "outputs": [],
   "source": [
    "a = 20\n",
    "b = 10"
   ]
  },
  {
   "cell_type": "code",
   "execution_count": 7,
   "id": "55a3d042-2d08-424f-8a9e-7736957cca42",
   "metadata": {},
   "outputs": [
    {
     "data": {
      "text/plain": [
       "True"
      ]
     },
     "execution_count": 7,
     "metadata": {},
     "output_type": "execute_result"
    }
   ],
   "source": [
    "a > b"
   ]
  },
  {
   "cell_type": "code",
   "execution_count": 8,
   "id": "54088ce9-324b-47a8-a21f-181efb5c5a7c",
   "metadata": {},
   "outputs": [
    {
     "data": {
      "text/plain": [
       "False"
      ]
     },
     "execution_count": 8,
     "metadata": {},
     "output_type": "execute_result"
    }
   ],
   "source": [
    "b > a"
   ]
  },
  {
   "cell_type": "markdown",
   "id": "040c91ac-d806-411c-b358-ea956b819021",
   "metadata": {},
   "source": [
    "# Less than (<)"
   ]
  },
  {
   "cell_type": "code",
   "execution_count": 9,
   "id": "51356e2a-9651-4cba-b910-7fa630fcfcd8",
   "metadata": {},
   "outputs": [],
   "source": [
    "# Checks the left value is less or lower than the right value.\n",
    "# if left value is less/lower then returs TRUE otherwise FALSE"
   ]
  },
  {
   "cell_type": "code",
   "execution_count": 11,
   "id": "8c34dc02-d42f-44f0-8611-cc196a0a48b3",
   "metadata": {},
   "outputs": [],
   "source": [
    "a = 10\n",
    "b = 20"
   ]
  },
  {
   "cell_type": "code",
   "execution_count": 12,
   "id": "2cc4c270-4064-4166-b94a-8620c017b83d",
   "metadata": {},
   "outputs": [
    {
     "data": {
      "text/plain": [
       "True"
      ]
     },
     "execution_count": 12,
     "metadata": {},
     "output_type": "execute_result"
    }
   ],
   "source": [
    "a < b"
   ]
  },
  {
   "cell_type": "code",
   "execution_count": 13,
   "id": "1198d35a-ccc9-4b37-bfbd-8b54b4d5aea6",
   "metadata": {},
   "outputs": [
    {
     "data": {
      "text/plain": [
       "False"
      ]
     },
     "execution_count": 13,
     "metadata": {},
     "output_type": "execute_result"
    }
   ],
   "source": [
    "b < a"
   ]
  },
  {
   "cell_type": "markdown",
   "id": "d074b868-746a-4fa0-a291-5d0387e251c5",
   "metadata": {},
   "source": [
    "# Equal to (==)"
   ]
  },
  {
   "cell_type": "code",
   "execution_count": 14,
   "id": "76da8431-65fb-4a18-b0bb-557ae1846e10",
   "metadata": {},
   "outputs": [],
   "source": [
    "#Checks if two values are equal.\n",
    "#Returns True if they are equal, otherwise False."
   ]
  },
  {
   "cell_type": "code",
   "execution_count": 16,
   "id": "a4ef1ab8-7bbf-49ba-ba01-6c0afdc914c0",
   "metadata": {},
   "outputs": [],
   "source": [
    "a = 50\n",
    "b = 50"
   ]
  },
  {
   "cell_type": "code",
   "execution_count": 17,
   "id": "f1bc0a66-6e56-4170-8df6-0edc0d82d696",
   "metadata": {},
   "outputs": [
    {
     "data": {
      "text/plain": [
       "True"
      ]
     },
     "execution_count": 17,
     "metadata": {},
     "output_type": "execute_result"
    }
   ],
   "source": [
    "a == b"
   ]
  },
  {
   "cell_type": "code",
   "execution_count": 18,
   "id": "db7f7be3-570b-42b6-bdc2-da0dad4e298b",
   "metadata": {},
   "outputs": [],
   "source": [
    "a = 30\n",
    "b = 40"
   ]
  },
  {
   "cell_type": "code",
   "execution_count": 19,
   "id": "db8704bf-877a-413d-9310-bfd7ba2b374b",
   "metadata": {},
   "outputs": [
    {
     "data": {
      "text/plain": [
       "False"
      ]
     },
     "execution_count": 19,
     "metadata": {},
     "output_type": "execute_result"
    }
   ],
   "source": [
    "a == b"
   ]
  },
  {
   "cell_type": "markdown",
   "id": "079742a6-9364-483b-aea1-1c54f7b80ae8",
   "metadata": {},
   "source": [
    "# Not equal to (!=)"
   ]
  },
  {
   "cell_type": "code",
   "execution_count": 21,
   "id": "3007aafe-328e-45cd-8010-819d57f403f6",
   "metadata": {},
   "outputs": [],
   "source": [
    "#Checks if two values are not equal.\n",
    "#Returns True if they are not equal, otherwise False."
   ]
  },
  {
   "cell_type": "code",
   "execution_count": 23,
   "id": "f6e438d3-42d7-4ff4-b5c9-7cfd6206b4e4",
   "metadata": {},
   "outputs": [],
   "source": [
    "a = 30\n",
    "b = 40"
   ]
  },
  {
   "cell_type": "code",
   "execution_count": 24,
   "id": "80209624-49ce-424b-a1df-35333469abc9",
   "metadata": {},
   "outputs": [
    {
     "data": {
      "text/plain": [
       "True"
      ]
     },
     "execution_count": 24,
     "metadata": {},
     "output_type": "execute_result"
    }
   ],
   "source": [
    "a != b"
   ]
  },
  {
   "cell_type": "code",
   "execution_count": 25,
   "id": "a98ae092-aa32-4401-9574-603171ff92df",
   "metadata": {},
   "outputs": [],
   "source": [
    "a = 10\n",
    "b = 10"
   ]
  },
  {
   "cell_type": "code",
   "execution_count": 26,
   "id": "e3d53091-8e49-4340-b1c1-5f1c063dafe4",
   "metadata": {},
   "outputs": [
    {
     "data": {
      "text/plain": [
       "False"
      ]
     },
     "execution_count": 26,
     "metadata": {},
     "output_type": "execute_result"
    }
   ],
   "source": [
    "a != b"
   ]
  },
  {
   "cell_type": "markdown",
   "id": "33950130-fc90-4143-98c8-c170bd89891b",
   "metadata": {},
   "source": [
    "# Greater than or equal to (>=)"
   ]
  },
  {
   "cell_type": "code",
   "execution_count": 27,
   "id": "9a58f138-ce1f-4b93-92d2-c6784a68911a",
   "metadata": {},
   "outputs": [],
   "source": [
    "# Checks the left value is greater than or equal to the right value.\n",
    "# when one condition is match then returns TRUE  otherwise FALSE"
   ]
  },
  {
   "cell_type": "code",
   "execution_count": 28,
   "id": "5d393fcc-bf72-4d51-be16-53b671f42c6c",
   "metadata": {},
   "outputs": [],
   "source": [
    "a = 50\n",
    "b = 40"
   ]
  },
  {
   "cell_type": "code",
   "execution_count": 30,
   "id": "70e69aba-3546-4dcd-8e22-b70c34fca0d3",
   "metadata": {},
   "outputs": [
    {
     "data": {
      "text/plain": [
       "True"
      ]
     },
     "execution_count": 30,
     "metadata": {},
     "output_type": "execute_result"
    }
   ],
   "source": [
    "a >= b     # a is greater than b"
   ]
  },
  {
   "cell_type": "code",
   "execution_count": 31,
   "id": "a8255ac9-f1b3-4356-8c4b-df3ed00e818c",
   "metadata": {},
   "outputs": [],
   "source": [
    "a = 70\n",
    "b = 70"
   ]
  },
  {
   "cell_type": "code",
   "execution_count": 33,
   "id": "aae5b0ef-bdde-4bf2-8ce0-768c06b06a1a",
   "metadata": {},
   "outputs": [
    {
     "data": {
      "text/plain": [
       "True"
      ]
     },
     "execution_count": 33,
     "metadata": {},
     "output_type": "execute_result"
    }
   ],
   "source": [
    "a >= b   # a is equal to b"
   ]
  },
  {
   "cell_type": "markdown",
   "id": "a3ffcac4-6bef-45aa-a6f0-16972267eb81",
   "metadata": {},
   "source": [
    "# Less than or equal to (<=)"
   ]
  },
  {
   "cell_type": "code",
   "execution_count": 34,
   "id": "31866e69-ca8b-4184-ae77-cc24e9b6d7aa",
   "metadata": {},
   "outputs": [],
   "source": [
    "# Checks the left value is less or lower than or equal to the right value.\n",
    "# when one condition is match then returns TRUE  otherwise FALSE"
   ]
  },
  {
   "cell_type": "code",
   "execution_count": 35,
   "id": "f061be16-1679-4f94-84ab-b9ae84722eea",
   "metadata": {},
   "outputs": [],
   "source": [
    "a = 5\n",
    "b = 20"
   ]
  },
  {
   "cell_type": "code",
   "execution_count": 37,
   "id": "40cf8e89-f7ea-4f66-953a-000fe468ed82",
   "metadata": {},
   "outputs": [
    {
     "data": {
      "text/plain": [
       "True"
      ]
     },
     "execution_count": 37,
     "metadata": {},
     "output_type": "execute_result"
    }
   ],
   "source": [
    "a <= b   # a is lower than b"
   ]
  },
  {
   "cell_type": "code",
   "execution_count": 38,
   "id": "8c06f579-0dbf-4603-9da7-8986d4f03b15",
   "metadata": {},
   "outputs": [],
   "source": [
    "a = 25\n",
    "b = 25"
   ]
  },
  {
   "cell_type": "code",
   "execution_count": 40,
   "id": "fdb49028-8066-48b1-8e46-aa9b1563b10e",
   "metadata": {},
   "outputs": [
    {
     "data": {
      "text/plain": [
       "True"
      ]
     },
     "execution_count": 40,
     "metadata": {},
     "output_type": "execute_result"
    }
   ],
   "source": [
    "a <= b  # a is equal to b"
   ]
  },
  {
   "cell_type": "code",
   "execution_count": null,
   "id": "5586d526-e950-4a1d-8234-ccf6379674e5",
   "metadata": {},
   "outputs": [],
   "source": []
  }
 ],
 "metadata": {
  "kernelspec": {
   "display_name": "Python 3 (ipykernel)",
   "language": "python",
   "name": "python3"
  },
  "language_info": {
   "codemirror_mode": {
    "name": "ipython",
    "version": 3
   },
   "file_extension": ".py",
   "mimetype": "text/x-python",
   "name": "python",
   "nbconvert_exporter": "python",
   "pygments_lexer": "ipython3",
   "version": "3.12.7"
  }
 },
 "nbformat": 4,
 "nbformat_minor": 5
}
